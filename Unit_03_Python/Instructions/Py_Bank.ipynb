{
 "cells": [
  {
   "cell_type": "code",
   "execution_count": 1,
   "metadata": {},
   "outputs": [],
   "source": [
    "import pandas as pd\n",
    "\n"
   ]
  },
  {
   "cell_type": "code",
   "execution_count": 2,
   "metadata": {},
   "outputs": [],
   "source": [
    "path = \"/Users/kivcargo/Documents/SMU_Assignments/Unit_03_Python/Instructions/PyBank/Resources/budget_data.csv\""
   ]
  },
  {
   "cell_type": "code",
   "execution_count": 3,
   "metadata": {},
   "outputs": [],
   "source": [
    "budget = pd.read_csv(path)\n"
   ]
  },
  {
   "cell_type": "code",
   "execution_count": 15,
   "metadata": {},
   "outputs": [
    {
     "data": {
      "text/html": [
       "<div>\n",
       "<style scoped>\n",
       "    .dataframe tbody tr th:only-of-type {\n",
       "        vertical-align: middle;\n",
       "    }\n",
       "\n",
       "    .dataframe tbody tr th {\n",
       "        vertical-align: top;\n",
       "    }\n",
       "\n",
       "    .dataframe thead th {\n",
       "        text-align: right;\n",
       "    }\n",
       "</style>\n",
       "<table border=\"1\" class=\"dataframe\">\n",
       "  <thead>\n",
       "    <tr style=\"text-align: right;\">\n",
       "      <th></th>\n",
       "      <th>Date</th>\n",
       "      <th>Profit/Losses</th>\n",
       "    </tr>\n",
       "  </thead>\n",
       "  <tbody>\n",
       "    <tr>\n",
       "      <th>0</th>\n",
       "      <td>Jan-2010</td>\n",
       "      <td>867884</td>\n",
       "    </tr>\n",
       "    <tr>\n",
       "      <th>1</th>\n",
       "      <td>Feb-2010</td>\n",
       "      <td>984655</td>\n",
       "    </tr>\n",
       "    <tr>\n",
       "      <th>2</th>\n",
       "      <td>Mar-2010</td>\n",
       "      <td>322013</td>\n",
       "    </tr>\n",
       "    <tr>\n",
       "      <th>3</th>\n",
       "      <td>Apr-2010</td>\n",
       "      <td>-69417</td>\n",
       "    </tr>\n",
       "    <tr>\n",
       "      <th>4</th>\n",
       "      <td>May-2010</td>\n",
       "      <td>310503</td>\n",
       "    </tr>\n",
       "    <tr>\n",
       "      <th>5</th>\n",
       "      <td>Jun-2010</td>\n",
       "      <td>522857</td>\n",
       "    </tr>\n",
       "    <tr>\n",
       "      <th>6</th>\n",
       "      <td>Jul-2010</td>\n",
       "      <td>1033096</td>\n",
       "    </tr>\n",
       "    <tr>\n",
       "      <th>7</th>\n",
       "      <td>Aug-2010</td>\n",
       "      <td>604885</td>\n",
       "    </tr>\n",
       "    <tr>\n",
       "      <th>8</th>\n",
       "      <td>Sep-2010</td>\n",
       "      <td>-216386</td>\n",
       "    </tr>\n",
       "    <tr>\n",
       "      <th>9</th>\n",
       "      <td>Oct-2010</td>\n",
       "      <td>477532</td>\n",
       "    </tr>\n",
       "    <tr>\n",
       "      <th>10</th>\n",
       "      <td>Nov-2010</td>\n",
       "      <td>893810</td>\n",
       "    </tr>\n",
       "    <tr>\n",
       "      <th>11</th>\n",
       "      <td>Dec-2010</td>\n",
       "      <td>-80353</td>\n",
       "    </tr>\n",
       "    <tr>\n",
       "      <th>12</th>\n",
       "      <td>Jan-2011</td>\n",
       "      <td>779806</td>\n",
       "    </tr>\n",
       "    <tr>\n",
       "      <th>13</th>\n",
       "      <td>Feb-2011</td>\n",
       "      <td>-335203</td>\n",
       "    </tr>\n",
       "    <tr>\n",
       "      <th>14</th>\n",
       "      <td>Mar-2011</td>\n",
       "      <td>697845</td>\n",
       "    </tr>\n",
       "    <tr>\n",
       "      <th>15</th>\n",
       "      <td>Apr-2011</td>\n",
       "      <td>793163</td>\n",
       "    </tr>\n",
       "    <tr>\n",
       "      <th>16</th>\n",
       "      <td>May-2011</td>\n",
       "      <td>485070</td>\n",
       "    </tr>\n",
       "    <tr>\n",
       "      <th>17</th>\n",
       "      <td>Jun-2011</td>\n",
       "      <td>584122</td>\n",
       "    </tr>\n",
       "    <tr>\n",
       "      <th>18</th>\n",
       "      <td>Jul-2011</td>\n",
       "      <td>62729</td>\n",
       "    </tr>\n",
       "    <tr>\n",
       "      <th>19</th>\n",
       "      <td>Aug-2011</td>\n",
       "      <td>668179</td>\n",
       "    </tr>\n",
       "    <tr>\n",
       "      <th>20</th>\n",
       "      <td>Sep-2011</td>\n",
       "      <td>899906</td>\n",
       "    </tr>\n",
       "    <tr>\n",
       "      <th>21</th>\n",
       "      <td>Oct-2011</td>\n",
       "      <td>834719</td>\n",
       "    </tr>\n",
       "    <tr>\n",
       "      <th>22</th>\n",
       "      <td>Nov-2011</td>\n",
       "      <td>132003</td>\n",
       "    </tr>\n",
       "    <tr>\n",
       "      <th>23</th>\n",
       "      <td>Dec-2011</td>\n",
       "      <td>309978</td>\n",
       "    </tr>\n",
       "    <tr>\n",
       "      <th>24</th>\n",
       "      <td>Jan-2012</td>\n",
       "      <td>-755566</td>\n",
       "    </tr>\n",
       "    <tr>\n",
       "      <th>25</th>\n",
       "      <td>Feb-2012</td>\n",
       "      <td>1170593</td>\n",
       "    </tr>\n",
       "  </tbody>\n",
       "</table>\n",
       "</div>"
      ],
      "text/plain": [
       "        Date  Profit/Losses\n",
       "0   Jan-2010         867884\n",
       "1   Feb-2010         984655\n",
       "2   Mar-2010         322013\n",
       "3   Apr-2010         -69417\n",
       "4   May-2010         310503\n",
       "5   Jun-2010         522857\n",
       "6   Jul-2010        1033096\n",
       "7   Aug-2010         604885\n",
       "8   Sep-2010        -216386\n",
       "9   Oct-2010         477532\n",
       "10  Nov-2010         893810\n",
       "11  Dec-2010         -80353\n",
       "12  Jan-2011         779806\n",
       "13  Feb-2011        -335203\n",
       "14  Mar-2011         697845\n",
       "15  Apr-2011         793163\n",
       "16  May-2011         485070\n",
       "17  Jun-2011         584122\n",
       "18  Jul-2011          62729\n",
       "19  Aug-2011         668179\n",
       "20  Sep-2011         899906\n",
       "21  Oct-2011         834719\n",
       "22  Nov-2011         132003\n",
       "23  Dec-2011         309978\n",
       "24  Jan-2012        -755566\n",
       "25  Feb-2012        1170593"
      ]
     },
     "execution_count": 15,
     "metadata": {},
     "output_type": "execute_result"
    }
   ],
   "source": [
    "budget.head(26)"
   ]
  },
  {
   "cell_type": "code",
   "execution_count": null,
   "metadata": {},
   "outputs": [],
   "source": []
  },
  {
   "cell_type": "code",
   "execution_count": 5,
   "metadata": {},
   "outputs": [
    {
     "data": {
      "text/plain": [
       "86"
      ]
     },
     "execution_count": 5,
     "metadata": {},
     "output_type": "execute_result"
    }
   ],
   "source": [
    "total_rows = budget.Date.count()\n",
    "total_rows\n",
    "#print (total_rows +1)"
   ]
  },
  {
   "cell_type": "code",
   "execution_count": 6,
   "metadata": {},
   "outputs": [
    {
     "data": {
      "text/plain": [
       "38382578"
      ]
     },
     "execution_count": 6,
     "metadata": {},
     "output_type": "execute_result"
    }
   ],
   "source": [
    "total_profit = budget[\"Profit/Losses\"].sum()\n",
    "total_profit\n"
   ]
  },
  {
   "cell_type": "code",
   "execution_count": 7,
   "metadata": {},
   "outputs": [
    {
     "data": {
      "text/plain": [
       "446309.0465116279"
      ]
     },
     "execution_count": 7,
     "metadata": {},
     "output_type": "execute_result"
    }
   ],
   "source": [
    "total_profit/total_rows\n"
   ]
  },
  {
   "cell_type": "code",
   "execution_count": 8,
   "metadata": {},
   "outputs": [
    {
     "name": "stdout",
     "output_type": "stream",
     "text": [
      "0 Jan-2010 867884\n",
      "1 Feb-2010 984655\n",
      "2 Mar-2010 322013\n",
      "3 Apr-2010 -69417\n",
      "4 May-2010 310503\n",
      "5 Jun-2010 522857\n",
      "6 Jul-2010 1033096\n",
      "7 Aug-2010 604885\n",
      "8 Sep-2010 -216386\n",
      "9 Oct-2010 477532\n",
      "10 Nov-2010 893810\n",
      "11 Dec-2010 -80353\n",
      "12 Jan-2011 779806\n",
      "13 Feb-2011 -335203\n",
      "14 Mar-2011 697845\n",
      "15 Apr-2011 793163\n",
      "16 May-2011 485070\n",
      "17 Jun-2011 584122\n",
      "18 Jul-2011 62729\n",
      "19 Aug-2011 668179\n",
      "20 Sep-2011 899906\n",
      "21 Oct-2011 834719\n",
      "22 Nov-2011 132003\n",
      "23 Dec-2011 309978\n",
      "24 Jan-2012 -755566\n",
      "25 Feb-2012 1170593\n",
      "26 Mar-2012 252788\n",
      "27 Apr-2012 1151518\n",
      "28 May-2012 817256\n",
      "29 Jun-2012 570757\n",
      "30 Jul-2012 506702\n",
      "31 Aug-2012 -1022534\n",
      "32 Sep-2012 475062\n",
      "33 Oct-2012 779976\n",
      "34 Nov-2012 144175\n",
      "35 Dec-2012 542494\n",
      "36 Jan-2013 359333\n",
      "37 Feb-2013 321469\n",
      "38 Mar-2013 67780\n",
      "39 Apr-2013 471435\n",
      "40 May-2013 565603\n",
      "41 Jun-2013 872480\n",
      "42 Jul-2013 789480\n",
      "43 Aug-2013 999942\n",
      "44 Sep-2013 -1196225\n",
      "45 Oct-2013 268997\n",
      "46 Nov-2013 -687986\n",
      "47 Dec-2013 1150461\n",
      "48 Jan-2014 682458\n",
      "49 Feb-2014 617856\n",
      "50 Mar-2014 824098\n",
      "51 Apr-2014 581943\n",
      "52 May-2014 132864\n",
      "53 Jun-2014 448062\n",
      "54 Jul-2014 689161\n",
      "55 Aug-2014 800701\n",
      "56 Sep-2014 1166643\n",
      "57 Oct-2014 947333\n",
      "58 Nov-2014 578668\n",
      "59 Dec-2014 988505\n",
      "60 Jan-2015 1139715\n",
      "61 Feb-2015 1029471\n",
      "62 Mar-2015 687533\n",
      "63 Apr-2015 -524626\n",
      "64 May-2015 158620\n",
      "65 Jun-2015 87795\n",
      "66 Jul-2015 423389\n",
      "67 Aug-2015 840723\n",
      "68 Sep-2015 568529\n",
      "69 Oct-2015 332067\n",
      "70 Nov-2015 989499\n",
      "71 Dec-2015 778237\n",
      "72 Jan-2016 650000\n",
      "73 Feb-2016 -1100387\n",
      "74 Mar-2016 -174946\n",
      "75 Apr-2016 757143\n",
      "76 May-2016 445709\n",
      "77 Jun-2016 712961\n",
      "78 Jul-2016 -1163797\n",
      "79 Aug-2016 569899\n",
      "80 Sep-2016 768450\n",
      "81 Oct-2016 102685\n",
      "82 Nov-2016 795914\n",
      "83 Dec-2016 60988\n",
      "84 Jan-2017 138230\n",
      "85 Feb-2017 671099\n"
     ]
    }
   ],
   "source": [
    "changes = []\n",
    "for indx, row in budget.iterrows():\n",
    "    print(indx,row['Date'], row['Profit/Losses'])\n",
    "\n",
    "    if (indx < 85):\n",
    "        change = budget['Profit/Losses'][indx+1] - row['Profit/Losses']\n",
    "        #print(change)\n",
    "        changes.append(change)"
   ]
  },
  {
   "cell_type": "code",
   "execution_count": 26,
   "metadata": {},
   "outputs": [],
   "source": [
    "avg_change = sum(changes)/85"
   ]
  },
  {
   "cell_type": "code",
   "execution_count": 10,
   "metadata": {},
   "outputs": [],
   "source": [
    "max_value = max(changes)\n",
    "min_value = min(changes)"
   ]
  },
  {
   "cell_type": "code",
   "execution_count": 11,
   "metadata": {},
   "outputs": [
    {
     "name": "stdout",
     "output_type": "stream",
     "text": [
      "1926159\n"
     ]
    }
   ],
   "source": [
    "print (max_value)"
   ]
  },
  {
   "cell_type": "code",
   "execution_count": 12,
   "metadata": {},
   "outputs": [
    {
     "name": "stdout",
     "output_type": "stream",
     "text": [
      "-2196167\n"
     ]
    }
   ],
   "source": [
    "print (min_value)"
   ]
  },
  {
   "cell_type": "code",
   "execution_count": 13,
   "metadata": {},
   "outputs": [
    {
     "data": {
      "text/plain": [
       "24"
      ]
     },
     "execution_count": 13,
     "metadata": {},
     "output_type": "execute_result"
    }
   ],
   "source": [
    "changes.index(max_value)"
   ]
  },
  {
   "cell_type": "code",
   "execution_count": 17,
   "metadata": {},
   "outputs": [],
   "source": [
    "max_change = changes.index(max_value)"
   ]
  },
  {
   "cell_type": "code",
   "execution_count": 18,
   "metadata": {},
   "outputs": [],
   "source": [
    "min_change = changes.index(min_value)"
   ]
  },
  {
   "cell_type": "code",
   "execution_count": 25,
   "metadata": {},
   "outputs": [
    {
     "name": "stdout",
     "output_type": "stream",
     "text": [
      "Feb-2012\n"
     ]
    }
   ],
   "source": [
    "max_month = budget.iloc[max_change +1].Date\n",
    "print(max_month)"
   ]
  },
  {
   "cell_type": "code",
   "execution_count": 24,
   "metadata": {},
   "outputs": [
    {
     "name": "stdout",
     "output_type": "stream",
     "text": [
      "Sep-2013\n"
     ]
    }
   ],
   "source": [
    "min_month = budget.iloc[min_change +1].Date\n",
    "print (min_month)"
   ]
  },
  {
   "cell_type": "code",
   "execution_count": 33,
   "metadata": {},
   "outputs": [],
   "source": [
    "output = (\n",
    "        f\"\\nFinancial Analysis\\n\"\n",
    "    f\"----------------------------\\n\"\n",
    "    f\"Total Months: {total_rows}\\n\"\n",
    "    f\"Total: ${total_profit}\\n\"\n",
    "    f\"Average Change: ${avg_change}\\n\"\n",
    "    f\"Greatest Increase in Profit: {max_month} (${max_value})\\n\"\n",
    "    f\"Greatest Decrease in Profit: {min_month} (${min_value})\\n\")"
   ]
  },
  {
   "cell_type": "code",
   "execution_count": 35,
   "metadata": {},
   "outputs": [],
   "source": [
    "text_file = open(\"output.txt\", \"w\")\n",
    "text_file.write(output)\n",
    "text_file.close()"
   ]
  }
 ],
 "metadata": {
  "kernelspec": {
   "display_name": "Python 3",
   "language": "python",
   "name": "python3"
  },
  "language_info": {
   "codemirror_mode": {
    "name": "ipython",
    "version": 3
   },
   "file_extension": ".py",
   "mimetype": "text/x-python",
   "name": "python",
   "nbconvert_exporter": "python",
   "pygments_lexer": "ipython3",
   "version": "3.7.3"
  }
 },
 "nbformat": 4,
 "nbformat_minor": 2
}
